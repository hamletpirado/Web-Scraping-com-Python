{
 "cells": [
  {
   "cell_type": "code",
   "execution_count": 11,
   "metadata": {},
   "outputs": [
    {
     "name": "stdout",
     "output_type": "stream",
     "text": [
      "Número de notícias encontradas: 60\n",
      "Notícia 34: Charles do Bronx fatura bônus de 50 mil dólares por 'Luta da noite'\n"
     ]
    }
   ],
   "source": [
    "import requests  # Biblioteca para realizar requisições HTTP\n",
    "from bs4 import BeautifulSoup  # Biblioteca para processar HTML\n",
    "\n",
    "# Função para obter notícias do site Globo.com\n",
    "def get_news():\n",
    "    url = 'https://www.globo.com/'  # URL do site de notícias\n",
    "\n",
    "    # Fazendo a requisição HTTP para a página\n",
    "    page = requests.get(url)\n",
    "\n",
    "    # Criando o objeto BeautifulSoup para processar o HTML\n",
    "    soup = BeautifulSoup(page.text, 'html.parser')\n",
    "\n",
    "    # Buscando todas as tags dentro do HTML\n",
    "    noticias = soup.find_all('a')  # Corrigido para buscar todas as tags <a> (links)\n",
    "\n",
    "    # Classes-alvo que identificam os títulos das notícias\n",
    "    tgt_class1 = 'post__title'  # Classe para identificar títulos de posts\n",
    "    tgt_class2 = 'post-multicontet__link--tittle__text'  # Outra classe de interesse\n",
    "\n",
    "    # Dicionário para armazenar as notícias (título como chave e link como valor)\n",
    "    new_dict = {}\n",
    "\n",
    "    # Iterando sobre os links encontrados na página\n",
    "    for noticia in noticias:\n",
    "        # Verificando se a tag contém um <h2> e se possui uma classe definida\n",
    "        if noticia.h2 is not None and noticia.h2.get('class') is not None:\n",
    "            # Verificando se a classe do <h2> corresponde às classes-alvo\n",
    "            if tgt_class1 in noticia.h2.get('class'):\n",
    "                # Adicionando o título e o link ao dicionário\n",
    "                new_dict[noticia.h2.text.strip()] = noticia.get('href')\n",
    "            elif tgt_class2 in noticia.h2.get('class'):\n",
    "                # Adicionando ao dicionário se a outra classe também é encontrada\n",
    "                new_dict[noticia.h2.text.strip()] = noticia.get('href')\n",
    "\n",
    "    # Retornando o dicionário de notícias\n",
    "    return new_dict\n",
    "\n",
    "# Chamando a função para buscar notícias\n",
    "news = get_news()\n",
    "\n",
    "# Exibindo o número total de notícias encontradas\n",
    "print(f\"Número de notícias encontradas: {len(news)}\")\n",
    "\n",
    "# Exibindo o título de uma notícia específica (corrigido para acessar a lista corretamente)\n",
    "news_list = list(news.keys())  # Obtém uma lista de títulos das notícias\n",
    "print(f\"Notícia 34: {news_list[33]}\")  # Mostrando o título da 34ª notícia (índice começa em 0)\n"
   ]
  }
 ],
 "metadata": {
  "kernelspec": {
   "display_name": "Python 3",
   "language": "python",
   "name": "python3"
  },
  "language_info": {
   "codemirror_mode": {
    "name": "ipython",
    "version": 3
   },
   "file_extension": ".py",
   "mimetype": "text/x-python",
   "name": "python",
   "nbconvert_exporter": "python",
   "pygments_lexer": "ipython3",
   "version": "3.12.7"
  }
 },
 "nbformat": 4,
 "nbformat_minor": 2
}
